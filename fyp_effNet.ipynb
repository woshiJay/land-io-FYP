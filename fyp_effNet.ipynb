{
 "cells": [
  {
   "cell_type": "code",
   "execution_count": 9,
   "metadata": {},
   "outputs": [],
   "source": [
    "# pip install tensorflow\n",
    "# pip install keras\n",
    "# pip install numpy\n",
    "# pip install matplotlib\n",
    "# pip install pandas\n",
    "# pip install scikit-learn\n",
    "# pip install opencv-contrib-python"
   ]
  },
  {
   "cell_type": "markdown",
   "metadata": {},
   "source": [
    "EfficientNetB0"
   ]
  },
  {
   "cell_type": "code",
   "execution_count": 19,
   "metadata": {},
   "outputs": [],
   "source": [
    "# Libraries\n",
    "import os\n",
    "from PIL import Image, ImageEnhance\n",
    "import cv2\n",
    "import numpy as np\n",
    "import matplotlib.pyplot as plt\n",
    "import tensorflow as tf\n",
    "from tensorflow.keras.preprocessing.image import ImageDataGenerator\n",
    "from tensorflow.keras.applications import EfficientNetB0  # Import EfficientNet\n",
    "from tensorflow.keras.models import Model\n",
    "from tensorflow.keras.layers import Dense, GlobalAveragePooling2D\n",
    "from tensorflow.keras.callbacks import ModelCheckpoint, EarlyStopping"
   ]
  },
  {
   "cell_type": "code",
   "execution_count": 20,
   "metadata": {},
   "outputs": [],
   "source": [
    "def preprocess_image(image_path, size=(224, 224)):\n",
    "    img = Image.open(image_path)\n",
    "    \n",
    "    # Quality enhancement\n",
    "    enhancer = ImageEnhance.Sharpness(img)\n",
    "    img = enhancer.enhance(2.0)  # Increase sharpness\n",
    "    \n",
    "    # Noise reduction\n",
    "    image = cv2.cvtColor(np.array(img), cv2.COLOR_RGB2BGR)\n",
    "    image = cv2.GaussianBlur(image, (5, 5), 0)\n",
    "    img = Image.fromarray(cv2.cvtColor(image, cv2.COLOR_BGR2RGB))\n",
    "    \n",
    "    # Consistency\n",
    "    img = img.resize(size, Image.LANCZOS)\n",
    "    \n",
    "    # Normalization\n",
    "    img_array = np.array(img) / 255.0\n",
    "    \n",
    "    # Convert back to image\n",
    "    img = Image.fromarray((img_array * 255).astype(np.uint8))\n",
    "    \n",
    "    return img\n",
    "\n",
    "input_dir = 'data/images'\n",
    "output_dir = 'data/processed_images'\n",
    "\n",
    "# Apply preprocessing and save to new directory\n",
    "for category in os.listdir(input_dir):\n",
    "    category_path = os.path.join(input_dir, category)\n",
    "    if os.path.isdir(category_path):\n",
    "        output_category_path = os.path.join(output_dir, category)\n",
    "        if not os.path.exists(output_category_path):\n",
    "            os.makedirs(output_category_path)\n",
    "        for image_name in os.listdir(category_path):\n",
    "            image_path = os.path.join(category_path, image_name)\n",
    "            preprocessed_img = preprocess_image(image_path)\n",
    "            if preprocessed_img:\n",
    "                preprocessed_img.save(os.path.join(output_category_path, image_name))\n"
   ]
  },
  {
   "cell_type": "code",
   "execution_count": 12,
   "metadata": {},
   "outputs": [
    {
     "name": "stdout",
     "output_type": "stream",
     "text": [
      "Found 10500 images belonging to 21 classes.\n",
      "Found 2100 images belonging to 21 classes.\n",
      "Found 1050 images belonging to 21 classes.\n"
     ]
    }
   ],
   "source": [
    "train_dir = 'processed_images'\n",
    "val_dir = 'images_train_test_val/validation'\n",
    "test_dir = 'images_train_test_val/test'\n",
    "\n",
    "datagen = ImageDataGenerator(\n",
    "    rescale=1./255,\n",
    "    shear_range=0.2,\n",
    "    zoom_range=0.2,\n",
    "    horizontal_flip=True,\n",
    ")\n",
    "\n",
    "train_generator = datagen.flow_from_directory(\n",
    "    train_dir,\n",
    "    target_size=(224, 224),\n",
    "    batch_size=64,\n",
    "    class_mode='categorical'\n",
    ")\n",
    "\n",
    "val_generator = datagen.flow_from_directory(\n",
    "    val_dir,\n",
    "    target_size=(224, 224),\n",
    "    batch_size=64,\n",
    "    class_mode='categorical'\n",
    ")\n",
    "\n",
    "test_generator = datagen.flow_from_directory(\n",
    "    test_dir,\n",
    "    target_size=(224, 224),\n",
    "    batch_size=64,\n",
    "    class_mode='categorical'\n",
    ")"
   ]
  },
  {
   "cell_type": "code",
   "execution_count": 13,
   "metadata": {},
   "outputs": [],
   "source": [
    "base_model = EfficientNetB0(weights='imagenet', include_top=False)\n",
    "\n",
    "x = base_model.output\n",
    "x = GlobalAveragePooling2D()(x)\n",
    "x = Dense(512, activation='relu')(x)\n",
    "predictions = Dense(21, activation='softmax')(x)\n",
    "\n",
    "model = Model(inputs=base_model.input, outputs=predictions)\n"
   ]
  },
  {
   "cell_type": "code",
   "execution_count": 14,
   "metadata": {},
   "outputs": [
    {
     "name": "stdout",
     "output_type": "stream",
     "text": [
      "Epoch 1/20\n"
     ]
    },
    {
     "name": "stderr",
     "output_type": "stream",
     "text": [
      "c:\\Users\\User\\anaconda3\\Lib\\site-packages\\keras\\src\\trainers\\data_adapters\\py_dataset_adapter.py:121: UserWarning: Your `PyDataset` class should call `super().__init__(**kwargs)` in its constructor. `**kwargs` can include `workers`, `use_multiprocessing`, `max_queue_size`. Do not pass these arguments to `fit()`, as they will be ignored.\n",
      "  self._warn_if_super_not_called()\n"
     ]
    },
    {
     "name": "stdout",
     "output_type": "stream",
     "text": [
      "\u001b[1m165/165\u001b[0m \u001b[32m━━━━━━━━━━━━━━━━━━━━\u001b[0m\u001b[37m\u001b[0m \u001b[1m1127s\u001b[0m 6s/step - accuracy: 0.3919 - loss: 2.1520 - val_accuracy: 0.0476 - val_loss: 3.1121\n",
      "Epoch 2/20\n",
      "\u001b[1m165/165\u001b[0m \u001b[32m━━━━━━━━━━━━━━━━━━━━\u001b[0m\u001b[37m\u001b[0m \u001b[1m1016s\u001b[0m 6s/step - accuracy: 0.7593 - loss: 0.7531 - val_accuracy: 0.0490 - val_loss: 4.0502\n",
      "Epoch 3/20\n",
      "\u001b[1m165/165\u001b[0m \u001b[32m━━━━━━━━━━━━━━━━━━━━\u001b[0m\u001b[37m\u001b[0m \u001b[1m992s\u001b[0m 6s/step - accuracy: 0.8383 - loss: 0.5069 - val_accuracy: 0.0876 - val_loss: 4.1369\n",
      "Epoch 4/20\n",
      "\u001b[1m165/165\u001b[0m \u001b[32m━━━━━━━━━━━━━━━━━━━━\u001b[0m\u001b[37m\u001b[0m \u001b[1m992s\u001b[0m 6s/step - accuracy: 0.8701 - loss: 0.3950 - val_accuracy: 0.2257 - val_loss: 3.2273\n",
      "Epoch 5/20\n",
      "\u001b[1m165/165\u001b[0m \u001b[32m━━━━━━━━━━━━━━━━━━━━\u001b[0m\u001b[37m\u001b[0m \u001b[1m1072s\u001b[0m 6s/step - accuracy: 0.8817 - loss: 0.3572 - val_accuracy: 0.4881 - val_loss: 1.8752\n",
      "Epoch 6/20\n",
      "\u001b[1m165/165\u001b[0m \u001b[32m━━━━━━━━━━━━━━━━━━━━\u001b[0m\u001b[37m\u001b[0m \u001b[1m1034s\u001b[0m 6s/step - accuracy: 0.9029 - loss: 0.3021 - val_accuracy: 0.5652 - val_loss: 1.4941\n",
      "Epoch 7/20\n",
      "\u001b[1m165/165\u001b[0m \u001b[32m━━━━━━━━━━━━━━━━━━━━\u001b[0m\u001b[37m\u001b[0m \u001b[1m994s\u001b[0m 6s/step - accuracy: 0.9114 - loss: 0.2684 - val_accuracy: 0.5457 - val_loss: 1.6589\n",
      "Epoch 8/20\n",
      "\u001b[1m165/165\u001b[0m \u001b[32m━━━━━━━━━━━━━━━━━━━━\u001b[0m\u001b[37m\u001b[0m \u001b[1m1003s\u001b[0m 6s/step - accuracy: 0.9136 - loss: 0.2510 - val_accuracy: 0.6062 - val_loss: 1.4202\n",
      "Epoch 9/20\n",
      "\u001b[1m165/165\u001b[0m \u001b[32m━━━━━━━━━━━━━━━━━━━━\u001b[0m\u001b[37m\u001b[0m \u001b[1m981s\u001b[0m 6s/step - accuracy: 0.9243 - loss: 0.2166 - val_accuracy: 0.5967 - val_loss: 1.3768\n",
      "Epoch 10/20\n",
      "\u001b[1m165/165\u001b[0m \u001b[32m━━━━━━━━━━━━━━━━━━━━\u001b[0m\u001b[37m\u001b[0m \u001b[1m1013s\u001b[0m 6s/step - accuracy: 0.9309 - loss: 0.2027 - val_accuracy: 0.6105 - val_loss: 1.4396\n",
      "Epoch 11/20\n",
      "\u001b[1m165/165\u001b[0m \u001b[32m━━━━━━━━━━━━━━━━━━━━\u001b[0m\u001b[37m\u001b[0m \u001b[1m1038s\u001b[0m 6s/step - accuracy: 0.9314 - loss: 0.2000 - val_accuracy: 0.6152 - val_loss: 1.4543\n",
      "Epoch 12/20\n",
      "\u001b[1m165/165\u001b[0m \u001b[32m━━━━━━━━━━━━━━━━━━━━\u001b[0m\u001b[37m\u001b[0m \u001b[1m1013s\u001b[0m 6s/step - accuracy: 0.9361 - loss: 0.1857 - val_accuracy: 0.5986 - val_loss: 1.5291\n",
      "Epoch 13/20\n",
      "\u001b[1m165/165\u001b[0m \u001b[32m━━━━━━━━━━━━━━━━━━━━\u001b[0m\u001b[37m\u001b[0m \u001b[1m1019s\u001b[0m 6s/step - accuracy: 0.9392 - loss: 0.1791 - val_accuracy: 0.6286 - val_loss: 1.4083\n",
      "Epoch 14/20\n",
      "\u001b[1m165/165\u001b[0m \u001b[32m━━━━━━━━━━━━━━━━━━━━\u001b[0m\u001b[37m\u001b[0m \u001b[1m1039s\u001b[0m 6s/step - accuracy: 0.9385 - loss: 0.1836 - val_accuracy: 0.6438 - val_loss: 1.3749\n",
      "Epoch 15/20\n",
      "\u001b[1m165/165\u001b[0m \u001b[32m━━━━━━━━━━━━━━━━━━━━\u001b[0m\u001b[37m\u001b[0m \u001b[1m1043s\u001b[0m 6s/step - accuracy: 0.9437 - loss: 0.1664 - val_accuracy: 0.6376 - val_loss: 1.4020\n",
      "Epoch 16/20\n",
      "\u001b[1m165/165\u001b[0m \u001b[32m━━━━━━━━━━━━━━━━━━━━\u001b[0m\u001b[37m\u001b[0m \u001b[1m988s\u001b[0m 6s/step - accuracy: 0.9448 - loss: 0.1605 - val_accuracy: 0.6433 - val_loss: 1.3976\n",
      "Epoch 17/20\n",
      "\u001b[1m165/165\u001b[0m \u001b[32m━━━━━━━━━━━━━━━━━━━━\u001b[0m\u001b[37m\u001b[0m \u001b[1m994s\u001b[0m 6s/step - accuracy: 0.9490 - loss: 0.1449 - val_accuracy: 0.6238 - val_loss: 1.5268\n",
      "Epoch 18/20\n",
      "\u001b[1m165/165\u001b[0m \u001b[32m━━━━━━━━━━━━━━━━━━━━\u001b[0m\u001b[37m\u001b[0m \u001b[1m985s\u001b[0m 6s/step - accuracy: 0.9473 - loss: 0.1585 - val_accuracy: 0.6462 - val_loss: 1.3675\n",
      "Epoch 19/20\n",
      "\u001b[1m165/165\u001b[0m \u001b[32m━━━━━━━━━━━━━━━━━━━━\u001b[0m\u001b[37m\u001b[0m \u001b[1m991s\u001b[0m 6s/step - accuracy: 0.9527 - loss: 0.1359 - val_accuracy: 0.5948 - val_loss: 1.6618\n",
      "Epoch 20/20\n",
      "\u001b[1m165/165\u001b[0m \u001b[32m━━━━━━━━━━━━━━━━━━━━\u001b[0m\u001b[37m\u001b[0m \u001b[1m988s\u001b[0m 6s/step - accuracy: 0.9438 - loss: 0.1579 - val_accuracy: 0.6543 - val_loss: 1.4947\n"
     ]
    }
   ],
   "source": [
    "# Define callbacks\n",
    "checkpoint = ModelCheckpoint(\n",
    "    'best_model.keras', \n",
    "    monitor='val_loss', \n",
    "    save_best_only=True, \n",
    "    mode='max',\n",
    "    verbose=1\n",
    "    )\n",
    "\n",
    "early_stopping = EarlyStopping(\n",
    "    monitor='val_loss', \n",
    "    patience=5, \n",
    "    mode='max',\n",
    "    verbose=1,\n",
    "    restore_best_weights=True\n",
    "    )\n",
    "\n",
    "model.compile(optimizer=tf.keras.optimizers.Adam(learning_rate=0.0001),\n",
    "              loss='categorical_crossentropy',\n",
    "              metrics=['accuracy'])\n",
    "\n",
    "history = model.fit(\n",
    "    train_generator,\n",
    "    epochs=5,\n",
    "    validation_data=val_generator,\n",
    "    callbacks=[checkpoint, early_stopping]\n",
    ")\n"
   ]
  },
  {
   "cell_type": "code",
   "execution_count": 18,
   "metadata": {},
   "outputs": [
    {
     "name": "stdout",
     "output_type": "stream",
     "text": [
      "\u001b[1m165/165\u001b[0m \u001b[32m━━━━━━━━━━━━━━━━━━━━\u001b[0m\u001b[37m\u001b[0m \u001b[1m185s\u001b[0m 1s/step - accuracy: 0.9591 - loss: 0.1113\n",
      "\u001b[1m33/33\u001b[0m \u001b[32m━━━━━━━━━━━━━━━━━━━━\u001b[0m\u001b[37m\u001b[0m \u001b[1m40s\u001b[0m 1s/step - accuracy: 0.6470 - loss: 1.4725\n",
      "\u001b[1m17/17\u001b[0m \u001b[32m━━━━━━━━━━━━━━━━━━━━\u001b[0m\u001b[37m\u001b[0m \u001b[1m20s\u001b[0m 1s/step - accuracy: 0.6427 - loss: 1.4606\n",
      "Train accuracy: 0.9604, Validation accuracy: 0.6500, Test accuracy: 0.6533\n"
     ]
    }
   ],
   "source": [
    "# Evaluate the model\n",
    "train_loss, train_acc = model.evaluate(train_generator)\n",
    "val_loss, val_acc = model.evaluate(val_generator)\n",
    "test_loss, test_acc = model.evaluate(test_generator)\n",
    "\n",
    "print(f'Train accuracy: {train_acc:.4f}, Validation accuracy: {val_acc:.4f}, Test accuracy: {test_acc:.4f}')"
   ]
  },
  {
   "cell_type": "code",
   "execution_count": 15,
   "metadata": {},
   "outputs": [
    {
     "data": {
      "image/png": "[encoded data removed]",
      "text/plain": [
       "<Figure size 1200x600 with 2 Axes>"
      ]
     },
     "metadata": {},
     "output_type": "display_data"
    }
   ],
   "source": [
    "# Plot training & validation accuracy values\n",
    "plt.figure(figsize=(12, 6))\n",
    "\n",
    "plt.subplot(1, 2, 1)\n",
    "plt.plot(history.history['accuracy'])\n",
    "plt.plot(history.history['val_accuracy'])\n",
    "plt.title('Model accuracy')\n",
    "plt.ylabel('Accuracy')\n",
    "plt.xlabel('Epoch')\n",
    "plt.legend(['Train', 'Test'], loc='upper left')\n",
    "\n",
    "# Plot training & validation loss values\n",
    "plt.subplot(1, 2, 2)\n",
    "plt.plot(history.history['loss'])\n",
    "plt.plot(history.history['val_loss'])\n",
    "plt.title('Model loss')\n",
    "plt.ylabel('Loss')\n",
    "plt.xlabel('Epoch')\n",
    "plt.legend(['Train', 'Test'], loc='upper left')\n",
    "\n",
    "plt.show()\n"
   ]
  },
  {
   "cell_type": "code",
   "execution_count": 16,
   "metadata": {},
   "outputs": [
    {
     "name": "stderr",
     "output_type": "stream",
     "text": [
      "c:\\Users\\User\\anaconda3\\Lib\\site-packages\\keras\\src\\trainers\\data_adapters\\py_dataset_adapter.py:121: UserWarning: Your `PyDataset` class should call `super().__init__(**kwargs)` in its constructor. `**kwargs` can include `workers`, `use_multiprocessing`, `max_queue_size`. Do not pass these arguments to `fit()`, as they will be ignored.\n",
      "  self._warn_if_super_not_called()\n"
     ]
    },
    {
     "name": "stdout",
     "output_type": "stream",
     "text": [
      "\u001b[1m17/17\u001b[0m \u001b[32m━━━━━━━━━━━━━━━━━━━━\u001b[0m\u001b[37m\u001b[0m \u001b[1m24s\u001b[0m 1s/step\n",
      "                   precision    recall  f1-score   support\n",
      "\n",
      "     agricultural       0.03      0.08      0.04        50\n",
      "         airplane       0.00      0.00      0.00        50\n",
      "  baseballdiamond       0.04      0.04      0.04        50\n",
      "            beach       0.00      0.00      0.00        50\n",
      "        buildings       0.04      0.02      0.03        50\n",
      "        chaparral       0.03      0.06      0.04        50\n",
      " denseresidential       0.02      0.02      0.02        50\n",
      "           forest       0.00      0.00      0.00        50\n",
      "          freeway       0.07      0.04      0.05        50\n",
      "       golfcourse       0.12      0.22      0.15        50\n",
      "           harbor       0.09      0.08      0.09        50\n",
      "     intersection       0.02      0.02      0.02        50\n",
      "mediumresidential       0.00      0.00      0.00        50\n",
      "   mobilehomepark       0.00      0.00      0.00        50\n",
      "         overpass       0.04      0.10      0.06        50\n",
      "       parkinglot       0.06      0.10      0.08        50\n",
      "            river       0.00      0.00      0.00        50\n",
      "           runway       0.08      0.08      0.08        50\n",
      "sparseresidential       0.02      0.02      0.02        50\n",
      "     storagetanks       0.11      0.10      0.11        50\n",
      "      tenniscourt       0.04      0.04      0.04        50\n",
      "\n",
      "         accuracy                           0.05      1050\n",
      "        macro avg       0.04      0.05      0.04      1050\n",
      "     weighted avg       0.04      0.05      0.04      1050\n",
      "\n",
      "[[ 4  2  2  1  2  1  1  0  1  7  2  4  1  1  9  2  1  3  1  1  4]\n",
      " [ 9  0  2  0  2  2  1  0  1  6  2  6  2  1  3  5  0  1  3  2  2]\n",
      " [ 8  3  2  0  3  5  2  0  4  3  1  1  0  0  6  1  2  2  2  3  2]\n",
      " [ 5  2  1  0  0  2  6  0  1  4  1  2  0  2  7  3  0  4  4  3  3]\n",
      " [ 6  4  6  0  1  5  4  0  2  3  0  2  0  0  7  3  1  2  1  1  2]\n",
      " [ 5  2  1  1  2  3  1  0  2  5  0  1  1  1  4  8  1  2  6  2  2]\n",
      " [ 9  1  2  0  1  2  1  0  1  4  5  1  0  0  6  3  1  4  3  3  3]\n",
      " [ 9  3  2  0  0  4  1  0  2  9  1  1  0  0 11  5  0  0  1  0  1]\n",
      " [ 6  3  4  0  0  3  2  0  2  3  1  7  0  0  5  6  1  2  1  2  2]\n",
      " [ 3  1  5  2  1  5  2  0  0 11  1  0  1  1  5  3  2  2  2  3  0]\n",
      " [ 7  2  3  1  0  5  4  0  1  2  4  3  0  0  7  2  0  2  1  0  6]\n",
      " [ 6  3  1  0  0  8  0  0  1  6  2  1  0  0  6  4  3  2  2  1  4]\n",
      " [ 8  2  1  0  2  4  2  1  1  4  2  3  0  0  4  6  0  0  3  5  2]\n",
      " [ 8  2  2  0  1  5  1  0  0  5  2  4  0  0  8  3  1  2  0  3  3]\n",
      " [ 4  3  2  0  0  7  5  0  1  4  3  0  0  1  5  5  0  3  2  3  2]\n",
      " [11  1  1  0  0  6  4  0  2  2  2  3  0  0  5  5  2  2  0  4  0]\n",
      " [ 8  3  2  0  1  5  2  0  1  2  5  3  0  0  5  4  0  3  4  1  1]\n",
      " [ 6  4  0  0  2  4  2  0  1  3  3  3  0  0  9  3  2  4  2  1  1]\n",
      " [ 9  2  2  0  0  6  4  0  0  2  2  3  1  1  6  2  2  4  1  2  1]\n",
      " [ 5  2  1  0  3  8  2  0  2  5  2  2  1  0  4  3  0  0  3  5  2]\n",
      " [ 5  2  5  0  3  1  4  0  2  3  3  4  0  0  4  5  2  5  0  0  2]]\n"
     ]
    }
   ],
   "source": [
    "from sklearn.metrics import classification_report, confusion_matrix\n",
    "\n",
    "test_generator.reset()\n",
    "Y_pred = model.predict(test_generator, len(test_generator))\n",
    "y_pred = np.argmax(Y_pred, axis=1)\n",
    "print(classification_report(test_generator.classes, y_pred, target_names=test_generator.class_indices.keys()))\n",
    "cm = confusion_matrix(test_generator.classes, y_pred)\n",
    "print(cm)"
   ]
  },
  {
   "cell_type": "code",
   "execution_count": 17,
   "metadata": {},
   "outputs": [
    {
     "name": "stderr",
     "output_type": "stream",
     "text": [
      "WARNING:absl:You are saving your model as an HDF5 file via `model.save()` or `keras.saving.save_model(model)`. This file format is considered legacy. We recommend using instead the native Keras format, e.g. `model.save('my_model.keras')` or `keras.saving.save_model(model, 'my_model.keras')`. \n"
     ]
    }
   ],
   "source": [
    "# Save model for hosting in Streamlit\n",
    "model.save('models/efficientnet_model.h5')"
   ]
  }
 ],
 "metadata": {
  "kernelspec": {
   "display_name": "Python 3",
   "language": "python",
   "name": "python3"
  },
  "language_info": {
   "codemirror_mode": {
    "name": "ipython",
    "version": 3
   },
   "file_extension": ".py",
   "mimetype": "text/x-python",
   "name": "python",
   "nbconvert_exporter": "python",
   "pygments_lexer": "ipython3",
   "version": "3.11.7"
  }
 },
 "nbformat": 4,
 "nbformat_minor": 2
}
