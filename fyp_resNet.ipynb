{
 "cells": [
  {
   "cell_type": "code",
   "execution_count": 1,
   "metadata": {},
   "outputs": [],
   "source": [
    "# pip install tensorflow\n",
    "# pip install keras\n",
    "# pip install numpy\n",
    "# pip install matplotlib\n",
    "# pip install pandas\n",
    "# pip install scikit-learn\n",
    "# pip install opencv-contrib-python"
   ]
  },
  {
   "cell_type": "markdown",
   "metadata": {},
   "source": [
    "ResNet50"
   ]
  },
  {
   "cell_type": "code",
   "execution_count": 3,
   "metadata": {},
   "outputs": [],
   "source": [
    "# Libraries\n",
    "import os\n",
    "from PIL import Image, ImageEnhance\n",
    "import cv2\n",
    "import numpy as np\n",
    "import matplotlib.pyplot as plt\n",
    "import tensorflow as tf\n",
    "from tensorflow.keras.preprocessing.image import ImageDataGenerator\n",
    "from tensorflow.keras.applications import ResNet50\n",
    "from tensorflow.keras.models import Model\n",
    "from tensorflow.keras.layers import Dense, GlobalAveragePooling2D\n",
    "from tensorflow.keras.callbacks import ModelCheckpoint, EarlyStopping"
   ]
  },
  {
   "cell_type": "markdown",
   "metadata": {},
   "source": [
    "Check Image Corruption"
   ]
  },
  {
   "cell_type": "code",
   "execution_count": 8,
   "metadata": {},
   "outputs": [
    {
     "name": "stdout",
     "output_type": "stream",
     "text": [
      "Total corrupted images: 0\n"
     ]
    }
   ],
   "source": [
    "from PIL import UnidentifiedImageError\n",
    "\n",
    "def check_images(directory):\n",
    "    corrupted_images = []\n",
    "    for root, _, files in os.walk(directory):\n",
    "        for file in files:\n",
    "            file_path = os.path.join(root, file)\n",
    "            try:\n",
    "                img = Image.open(file_path)\n",
    "                img.verify()  # This will raise an exception if the image is corrupted\n",
    "            except (UnidentifiedImageError, IOError) as e:\n",
    "                corrupted_images.append(file_path)\n",
    "                print(f\"Corrupted image: {file_path} - {e}\")\n",
    "    return corrupted_images\n",
    "\n",
    "corrupted_images = check_images('images')\n",
    "print(f\"Total corrupted images: {len(corrupted_images)}\")\n"
   ]
  },
  {
   "cell_type": "code",
   "execution_count": 9,
   "metadata": {},
   "outputs": [],
   "source": [
    "def preprocess_image(image_path, size=(224, 224)):\n",
    "    try:\n",
    "        img = Image.open(image_path)\n",
    "        \n",
    "        # Quality enhancement\n",
    "        enhancer = ImageEnhance.Sharpness(img)\n",
    "        img = enhancer.enhance(2.0)  # Increase sharpness\n",
    "        \n",
    "        # Noise reduction\n",
    "        image = cv2.cvtColor(np.array(img), cv2.COLOR_RGB2BGR)\n",
    "        image = cv2.GaussianBlur(image, (5, 5), 0)\n",
    "        img = Image.fromarray(cv2.cvtColor(image, cv2.COLOR_BGR2RGB))\n",
    "        \n",
    "        # Consistency\n",
    "        img = img.resize(size, Image.LANCZOS)\n",
    "\n",
    "        # Normalization\n",
    "        img_array = np.array(img) / 255.0\n",
    "    \n",
    "        # Convert back to image\n",
    "        img = Image.fromarray((img_array * 255).astype(np.uint8))\n",
    "        \n",
    "        return img\n",
    "    except (UnidentifiedImageError, IOError) as e:\n",
    "        print(f\"Error processing image {image_path}: {e}\")\n",
    "        return None\n",
    "\n",
    "input_dir = 'images_train_test_val/train'\n",
    "output_dir = 'processed_images'\n",
    "\n",
    "# Apply preprocessing and save to new directory\n",
    "for category in os.listdir(input_dir):\n",
    "    category_path = os.path.join(input_dir, category)\n",
    "    if os.path.isdir(category_path):\n",
    "        output_category_path = os.path.join(output_dir, category)\n",
    "        if not os.path.exists(output_category_path):\n",
    "            os.makedirs(output_category_path)\n",
    "        for image_name in os.listdir(category_path):\n",
    "            image_path = os.path.join(category_path, image_name)\n",
    "            preprocessed_img = preprocess_image(image_path)\n",
    "            if preprocessed_img:\n",
    "                preprocessed_img.save(os.path.join(output_category_path, image_name))\n"
   ]
  },
  {
   "cell_type": "code",
   "execution_count": 10,
   "metadata": {},
   "outputs": [
    {
     "name": "stdout",
     "output_type": "stream",
     "text": [
      "Found 10500 images belonging to 21 classes.\n",
      "Found 2100 images belonging to 21 classes.\n",
      "Found 1050 images belonging to 21 classes.\n"
     ]
    }
   ],
   "source": [
    "train_dir = 'data/processed_images'\n",
    "val_dir = 'data/images_train_test_val/validation'\n",
    "test_dir = 'data/images_train_test_val/test'\n",
    "\n",
    "datagen = ImageDataGenerator(\n",
    "    rescale=1./255,\n",
    "    shear_range=0.2,\n",
    "    zoom_range=0.2,\n",
    "    horizontal_flip=True,\n",
    ")\n",
    "\n",
    "train_generator = datagen.flow_from_directory(\n",
    "    train_dir,\n",
    "    target_size=(224, 224),\n",
    "    batch_size=64,\n",
    "    class_mode='categorical'\n",
    ")\n",
    "\n",
    "val_generator = datagen.flow_from_directory(\n",
    "    val_dir,\n",
    "    target_size=(224, 224),\n",
    "    batch_size=64,\n",
    "    class_mode='categorical'\n",
    ")\n",
    "\n",
    "test_generator = datagen.flow_from_directory(\n",
    "    test_dir,\n",
    "    target_size=(224, 224),\n",
    "    batch_size=64,\n",
    "    class_mode='categorical'\n",
    ")"
   ]
  },
  {
   "cell_type": "code",
   "execution_count": 11,
   "metadata": {},
   "outputs": [],
   "source": [
    "from tensorflow.keras.layers import BatchNormalization\n",
    "from tensorflow.keras.regularizers import l2\n",
    "\n",
    "base_model = ResNet50(weights='imagenet', include_top=False)\n",
    "\n",
    "x = base_model.output\n",
    "x = GlobalAveragePooling2D()(x)\n",
    "x = Dense(512, activation='relu', kernel_regularizer=l2(0.01))(x)\n",
    "x = BatchNormalization()(x)\n",
    "predictions = Dense(21, activation='softmax')(x)\n",
    "\n",
    "model = Model(inputs=base_model.input, outputs=predictions)\n",
    "\n",
    "model.compile(optimizer=tf.keras.optimizers.Adam(learning_rate=0.0001),\n",
    "              loss='categorical_crossentropy',\n",
    "              metrics=['accuracy'])"
   ]
  },
  {
   "cell_type": "code",
   "execution_count": 12,
   "metadata": {},
   "outputs": [
    {
     "name": "stdout",
     "output_type": "stream",
     "text": [
      "Epoch 1/20\n"
     ]
    },
    {
     "name": "stderr",
     "output_type": "stream",
     "text": [
      "c:\\Users\\User\\anaconda3\\Lib\\site-packages\\keras\\src\\trainers\\data_adapters\\py_dataset_adapter.py:121: UserWarning: Your `PyDataset` class should call `super().__init__(**kwargs)` in its constructor. `**kwargs` can include `workers`, `use_multiprocessing`, `max_queue_size`. Do not pass these arguments to `fit()`, as they will be ignored.\n",
      "  self._warn_if_super_not_called()\n"
     ]
    },
    {
     "name": "stdout",
     "output_type": "stream",
     "text": [
      "\u001b[1m329/329\u001b[0m \u001b[32m━━━━━━━━━━━━━━━━━━━━\u001b[0m\u001b[37m\u001b[0m \u001b[1m1558s\u001b[0m 5s/step - accuracy: 0.6579 - loss: 1.1613 - val_accuracy: 0.0543 - val_loss: 5.6862\n",
      "Epoch 2/20\n",
      "\u001b[1m329/329\u001b[0m \u001b[32m━━━━━━━━━━━━━━━━━━━━\u001b[0m\u001b[37m\u001b[0m \u001b[1m1535s\u001b[0m 5s/step - accuracy: 0.9067 - loss: 0.2881 - val_accuracy: 0.4343 - val_loss: 2.2486\n",
      "Epoch 3/20\n",
      "\u001b[1m329/329\u001b[0m \u001b[32m━━━━━━━━━━━━━━━━━━━━\u001b[0m\u001b[37m\u001b[0m \u001b[1m1541s\u001b[0m 5s/step - accuracy: 0.9395 - loss: 0.1910 - val_accuracy: 0.9305 - val_loss: 0.2182\n",
      "Epoch 4/20\n",
      "\u001b[1m329/329\u001b[0m \u001b[32m━━━━━━━━━━━━━━━━━━━━\u001b[0m\u001b[37m\u001b[0m \u001b[1m1535s\u001b[0m 5s/step - accuracy: 0.9469 - loss: 0.1705 - val_accuracy: 0.9648 - val_loss: 0.1050\n",
      "Epoch 5/20\n",
      "\u001b[1m329/329\u001b[0m \u001b[32m━━━━━━━━━━━━━━━━━━━━\u001b[0m\u001b[37m\u001b[0m \u001b[1m1517s\u001b[0m 5s/step - accuracy: 0.9555 - loss: 0.1358 - val_accuracy: 0.9714 - val_loss: 0.0940\n",
      "Epoch 6/20\n",
      "\u001b[1m329/329\u001b[0m \u001b[32m━━━━━━━━━━━━━━━━━━━━\u001b[0m\u001b[37m\u001b[0m \u001b[1m1518s\u001b[0m 5s/step - accuracy: 0.9628 - loss: 0.1089 - val_accuracy: 0.9476 - val_loss: 0.2126\n",
      "Epoch 7/20\n",
      "\u001b[1m329/329\u001b[0m \u001b[32m━━━━━━━━━━━━━━━━━━━━\u001b[0m\u001b[37m\u001b[0m \u001b[1m1520s\u001b[0m 5s/step - accuracy: 0.9566 - loss: 0.1307 - val_accuracy: 0.9800 - val_loss: 0.0680\n",
      "Epoch 8/20\n",
      "\u001b[1m329/329\u001b[0m \u001b[32m━━━━━━━━━━━━━━━━━━━━\u001b[0m\u001b[37m\u001b[0m \u001b[1m1524s\u001b[0m 5s/step - accuracy: 0.9674 - loss: 0.0959 - val_accuracy: 0.9705 - val_loss: 0.0890\n",
      "Epoch 9/20\n",
      "\u001b[1m329/329\u001b[0m \u001b[32m━━━━━━━━━━━━━━━━━━━━\u001b[0m\u001b[37m\u001b[0m \u001b[1m1519s\u001b[0m 5s/step - accuracy: 0.9706 - loss: 0.0875 - val_accuracy: 0.9800 - val_loss: 0.0620\n",
      "Epoch 10/20\n",
      "\u001b[1m329/329\u001b[0m \u001b[32m━━━━━━━━━━━━━━━━━━━━\u001b[0m\u001b[37m\u001b[0m \u001b[1m1523s\u001b[0m 5s/step - accuracy: 0.9762 - loss: 0.0824 - val_accuracy: 0.9819 - val_loss: 0.0715\n",
      "Epoch 11/20\n",
      "\u001b[1m329/329\u001b[0m \u001b[32m━━━━━━━━━━━━━━━━━━━━\u001b[0m\u001b[37m\u001b[0m \u001b[1m1522s\u001b[0m 5s/step - accuracy: 0.9812 - loss: 0.0569 - val_accuracy: 0.9667 - val_loss: 0.1110\n",
      "Epoch 12/20\n",
      "\u001b[1m329/329\u001b[0m \u001b[32m━━━━━━━━━━━━━━━━━━━━\u001b[0m\u001b[37m\u001b[0m \u001b[1m1522s\u001b[0m 5s/step - accuracy: 0.9738 - loss: 0.0863 - val_accuracy: 0.9752 - val_loss: 0.0840\n",
      "Epoch 13/20\n",
      "\u001b[1m329/329\u001b[0m \u001b[32m━━━━━━━━━━━━━━━━━━━━\u001b[0m\u001b[37m\u001b[0m \u001b[1m1522s\u001b[0m 5s/step - accuracy: 0.9759 - loss: 0.0754 - val_accuracy: 0.9876 - val_loss: 0.0405\n",
      "Epoch 14/20\n",
      "\u001b[1m329/329\u001b[0m \u001b[32m━━━━━━━━━━━━━━━━━━━━\u001b[0m\u001b[37m\u001b[0m \u001b[1m1532s\u001b[0m 5s/step - accuracy: 0.9767 - loss: 0.0843 - val_accuracy: 0.9829 - val_loss: 0.0540\n",
      "Epoch 15/20\n",
      "\u001b[1m329/329\u001b[0m \u001b[32m━━━━━━━━━━━━━━━━━━━━\u001b[0m\u001b[37m\u001b[0m \u001b[1m1525s\u001b[0m 5s/step - accuracy: 0.9825 - loss: 0.0569 - val_accuracy: 0.9790 - val_loss: 0.0670\n",
      "Epoch 16/20\n",
      "\u001b[1m329/329\u001b[0m \u001b[32m━━━━━━━━━━━━━━━━━━━━\u001b[0m\u001b[37m\u001b[0m \u001b[1m1524s\u001b[0m 5s/step - accuracy: 0.9786 - loss: 0.0633 - val_accuracy: 0.9695 - val_loss: 0.0914\n",
      "Epoch 17/20\n",
      "\u001b[1m329/329\u001b[0m \u001b[32m━━━━━━━━━━━━━━━━━━━━\u001b[0m\u001b[37m\u001b[0m \u001b[1m1548s\u001b[0m 5s/step - accuracy: 0.9815 - loss: 0.0534 - val_accuracy: 0.9810 - val_loss: 0.0543\n",
      "Epoch 18/20\n",
      "\u001b[1m329/329\u001b[0m \u001b[32m━━━━━━━━━━━━━━━━━━━━\u001b[0m\u001b[37m\u001b[0m \u001b[1m1535s\u001b[0m 5s/step - accuracy: 0.9869 - loss: 0.0436 - val_accuracy: 0.9876 - val_loss: 0.0390\n",
      "Epoch 19/20\n",
      "\u001b[1m329/329\u001b[0m \u001b[32m━━━━━━━━━━━━━━━━━━━━\u001b[0m\u001b[37m\u001b[0m \u001b[1m1544s\u001b[0m 5s/step - accuracy: 0.9849 - loss: 0.0514 - val_accuracy: 0.9819 - val_loss: 0.0478\n",
      "Epoch 20/20\n",
      "\u001b[1m329/329\u001b[0m \u001b[32m━━━━━━━━━━━━━━━━━━━━\u001b[0m\u001b[37m\u001b[0m \u001b[1m1583s\u001b[0m 5s/step - accuracy: 0.9869 - loss: 0.0523 - val_accuracy: 0.9610 - val_loss: 0.1515\n"
     ]
    }
   ],
   "source": [
    "# Define callbacks\n",
    "checkpoint = ModelCheckpoint(\n",
    "    'models/best_ResNet_model.keras', \n",
    "    monitor='val_loss', \n",
    "    save_best_only=True, \n",
    "    mode='max',\n",
    "    verbose=1\n",
    ")\n",
    "\n",
    "early_stopping = EarlyStopping(\n",
    "    monitor='val_loss', \n",
    "    patience=5, \n",
    "    mode='max',\n",
    "    verbose=1,\n",
    "    restore_best_weights=True\n",
    ")\n",
    "\n",
    "history = model.fit(\n",
    "    train_generator,\n",
    "    epochs=5,\n",
    "    validation_data=test_generator,\n",
    "    callbacks=[checkpoint, early_stopping]\n",
    ")\n"
   ]
  },
  {
   "cell_type": "code",
   "execution_count": 13,
   "metadata": {},
   "outputs": [
    {
     "name": "stdout",
     "output_type": "stream",
     "text": [
      "\u001b[1m329/329\u001b[0m \u001b[32m━━━━━━━━━━━━━━━━━━━━\u001b[0m\u001b[37m\u001b[0m \u001b[1m343s\u001b[0m 1s/step - accuracy: 0.9748 - loss: 0.1139\n"
     ]
    },
    {
     "name": "stderr",
     "output_type": "stream",
     "text": [
      "c:\\Users\\User\\anaconda3\\Lib\\site-packages\\keras\\src\\trainers\\data_adapters\\py_dataset_adapter.py:121: UserWarning: Your `PyDataset` class should call `super().__init__(**kwargs)` in its constructor. `**kwargs` can include `workers`, `use_multiprocessing`, `max_queue_size`. Do not pass these arguments to `fit()`, as they will be ignored.\n",
      "  self._warn_if_super_not_called()\n"
     ]
    },
    {
     "name": "stdout",
     "output_type": "stream",
     "text": [
      "\u001b[1m66/66\u001b[0m \u001b[32m━━━━━━━━━━━━━━━━━━━━\u001b[0m\u001b[37m\u001b[0m \u001b[1m70s\u001b[0m 1s/step - accuracy: 0.9753 - loss: 0.1193\n",
      "\u001b[1m33/33\u001b[0m \u001b[32m━━━━━━━━━━━━━━━━━━━━\u001b[0m\u001b[37m\u001b[0m \u001b[1m33s\u001b[0m 972ms/step - accuracy: 0.9518 - loss: 0.2246\n",
      "Train accuracy: 0.9749, Validation accuracy: 0.9652, Test accuracy: 0.9619\n"
     ]
    }
   ],
   "source": [
    "# Evaluate the model\n",
    "train_loss, train_acc = model.evaluate(train_generator)\n",
    "val_loss, val_acc = model.evaluate(val_generator)\n",
    "test_loss, test_acc = model.evaluate(test_generator)\n",
    "\n",
    "print(f'Train accuracy: {train_acc:.4f}, Validation accuracy: {val_acc:.4f}, Test accuracy: {test_acc:.4f}')"
   ]
  },
  {
   "cell_type": "code",
   "execution_count": 14,
   "metadata": {},
   "outputs": [
    {
     "data": {
      "image/png": "[encoded data removed]",
      "text/plain": [
       "<Figure size 1200x600 with 2 Axes>"
      ]
     },
     "metadata": {},
     "output_type": "display_data"
    }
   ],
   "source": [
    "# Plot training & validation accuracy values\n",
    "plt.figure(figsize=(12, 6))\n",
    "\n",
    "plt.subplot(1, 2, 1)\n",
    "plt.plot(history.history['accuracy'])\n",
    "plt.plot(history.history['val_accuracy'])\n",
    "plt.title('Model accuracy')\n",
    "plt.ylabel('Accuracy')\n",
    "plt.xlabel('Epoch')\n",
    "plt.legend(['Train', 'Test'], loc='upper left')\n",
    "\n",
    "# Plot training & validation loss values\n",
    "plt.subplot(1, 2, 2)\n",
    "plt.plot(history.history['loss'])\n",
    "plt.plot(history.history['val_loss'])\n",
    "plt.title('Model loss')\n",
    "plt.ylabel('Loss')\n",
    "plt.xlabel('Epoch')\n",
    "plt.legend(['Train', 'Test'], loc='upper left')\n",
    "\n",
    "plt.show()\n"
   ]
  },
  {
   "cell_type": "code",
   "execution_count": 15,
   "metadata": {},
   "outputs": [
    {
     "name": "stdout",
     "output_type": "stream",
     "text": [
      "\u001b[1m33/33\u001b[0m \u001b[32m━━━━━━━━━━━━━━━━━━━━\u001b[0m\u001b[37m\u001b[0m \u001b[1m38s\u001b[0m 1s/step\n",
      "                   precision    recall  f1-score   support\n",
      "\n",
      "     agricultural       0.05      0.06      0.06        50\n",
      "         airplane       0.04      0.04      0.04        50\n",
      "  baseballdiamond       0.08      0.08      0.08        50\n",
      "            beach       0.08      0.08      0.08        50\n",
      "        buildings       0.05      0.06      0.05        50\n",
      "        chaparral       0.03      0.02      0.02        50\n",
      " denseresidential       0.07      0.06      0.06        50\n",
      "           forest       0.11      0.10      0.10        50\n",
      "          freeway       0.06      0.06      0.06        50\n",
      "       golfcourse       0.08      0.08      0.08        50\n",
      "           harbor       0.08      0.08      0.08        50\n",
      "     intersection       0.04      0.04      0.04        50\n",
      "mediumresidential       0.08      0.08      0.08        50\n",
      "   mobilehomepark       0.04      0.04      0.04        50\n",
      "         overpass       0.08      0.08      0.08        50\n",
      "       parkinglot       0.11      0.10      0.10        50\n",
      "            river       0.06      0.06      0.06        50\n",
      "           runway       0.06      0.06      0.06        50\n",
      "sparseresidential       0.04      0.04      0.04        50\n",
      "     storagetanks       0.10      0.10      0.10        50\n",
      "      tenniscourt       0.02      0.02      0.02        50\n",
      "\n",
      "         accuracy                           0.06      1050\n",
      "        macro avg       0.06      0.06      0.06      1050\n",
      "     weighted avg       0.06      0.06      0.06      1050\n",
      "\n",
      "[[3 5 3 1 5 3 2 1 5 1 2 0 3 2 2 2 1 2 0 4 3]\n",
      " [4 2 0 3 0 0 1 4 1 4 2 2 3 5 1 2 4 5 2 2 3]\n",
      " [4 3 4 3 4 2 1 1 3 3 3 2 2 3 0 2 1 2 0 3 4]\n",
      " [2 1 4 4 2 2 2 2 0 4 0 1 3 1 6 2 2 3 3 5 1]\n",
      " [0 1 3 3 3 1 1 5 3 3 3 2 2 4 3 2 2 0 3 0 6]\n",
      " [1 1 4 3 5 1 3 1 2 3 3 4 4 2 1 4 1 1 3 0 3]\n",
      " [2 0 5 2 5 2 3 0 1 0 3 7 0 2 4 1 2 4 2 3 2]\n",
      " [2 3 4 0 1 1 4 5 0 5 1 2 5 2 1 2 2 2 4 1 3]\n",
      " [3 3 1 3 3 1 1 3 3 1 3 4 2 4 2 2 3 2 2 2 2]\n",
      " [1 3 3 3 3 0 6 3 3 4 5 0 4 0 2 2 2 1 3 1 1]\n",
      " [5 0 5 3 2 1 2 1 1 2 4 3 3 2 4 2 2 1 2 2 3]\n",
      " [3 1 2 1 2 6 1 1 4 1 2 2 0 7 2 1 4 1 4 2 3]\n",
      " [0 4 2 4 1 2 1 2 6 3 3 1 4 0 3 1 3 2 2 3 3]\n",
      " [2 3 0 2 6 2 1 1 4 5 1 1 2 2 2 1 4 2 3 3 3]\n",
      " [7 1 1 1 2 0 2 1 4 3 3 1 1 3 4 1 1 2 4 2 6]\n",
      " [6 4 1 2 2 2 1 1 1 3 1 2 2 1 2 5 4 4 2 1 3]\n",
      " [0 5 2 1 3 2 2 1 3 1 4 2 0 1 3 3 3 5 1 4 4]\n",
      " [3 3 0 2 3 2 2 2 3 0 0 7 2 2 2 1 3 3 4 2 4]\n",
      " [3 3 2 2 1 3 1 5 1 1 4 3 1 0 2 4 4 3 2 2 3]\n",
      " [3 1 2 2 4 3 5 3 0 1 0 2 3 3 2 3 1 2 4 5 1]\n",
      " [4 3 2 4 3 1 3 3 1 2 4 2 3 5 2 3 0 0 2 2 1]]\n"
     ]
    }
   ],
   "source": [
    "from sklearn.metrics import classification_report, confusion_matrix\n",
    "\n",
    "test_generator.reset()\n",
    "Y_pred = model.predict(test_generator, len(test_generator))\n",
    "y_pred = np.argmax(Y_pred, axis=1)\n",
    "print(classification_report(test_generator.classes, y_pred, target_names=test_generator.class_indices.keys()))\n",
    "cm = confusion_matrix(test_generator.classes, y_pred)\n",
    "print(cm)"
   ]
  }
 ],
 "metadata": {
  "kernelspec": {
   "display_name": "Python 3",
   "language": "python",
   "name": "python3"
  },
  "language_info": {
   "codemirror_mode": {
    "name": "ipython",
    "version": 3
   },
   "file_extension": ".py",
   "mimetype": "text/x-python",
   "name": "python",
   "nbconvert_exporter": "python",
   "pygments_lexer": "ipython3",
   "version": "3.11.7"
  }
 },
 "nbformat": 4,
 "nbformat_minor": 2
}
