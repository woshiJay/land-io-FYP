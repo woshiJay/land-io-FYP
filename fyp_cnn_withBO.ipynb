{
 "cells": [
  {
   "cell_type": "code",
   "execution_count": 10,
   "metadata": {},
   "outputs": [],
   "source": [
    "# Libraries\n",
    "import os\n",
    "from PIL import Image, ImageEnhance\n",
    "import cv2\n",
    "import numpy as np\n",
    "import matplotlib.pyplot as plt\n",
    "import tensorflow as tf\n",
    "from tensorflow.keras.preprocessing.image import ImageDataGenerator\n",
    "from tensorflow.keras.models import Sequential\n",
    "from tensorflow.keras.layers import Conv2D, MaxPooling2D, Flatten, Dense, Dropout, Input\n",
    "from tensorflow.keras.optimizers import SGD, Adam\n",
    "from bayes_opt import BayesianOptimization\n",
    "from sklearn.metrics import accuracy_score"
   ]
  },
  {
   "cell_type": "markdown",
   "metadata": {},
   "source": [
    "Preprocessing"
   ]
  },
  {
   "cell_type": "code",
   "execution_count": 2,
   "metadata": {},
   "outputs": [],
   "source": [
    "def preprocess_image(image_path, size=(224, 224)):\n",
    "    img = Image.open(image_path)\n",
    "    \n",
    "    # Quality enhancement\n",
    "    enhancer = ImageEnhance.Sharpness(img)\n",
    "    img = enhancer.enhance(2.0)  # Increase sharpness\n",
    "    \n",
    "    # Noise reduction\n",
    "    image = cv2.cvtColor(np.array(img), cv2.COLOR_RGB2BGR)\n",
    "    image = cv2.GaussianBlur(image, (5, 5), 0)\n",
    "    img = Image.fromarray(cv2.cvtColor(image, cv2.COLOR_BGR2RGB))\n",
    "    \n",
    "    # Consistency\n",
    "    img = img.resize(size, Image.LANCZOS)\n",
    "    \n",
    "    # Canny edge detection\n",
    "    image = cv2.cvtColor(np.array(img), cv2.COLOR_RGB2BGR)\n",
    "    edges = cv2.Canny(image, 100, 200)\n",
    "    img = Image.fromarray(edges)\n",
    "    \n",
    "    return img\n",
    "\n",
    "# Apply preprocessing and save to new directory\n",
    "input_dir = 'images'\n",
    "output_dir = 'processed_images'\n",
    "\n",
    "if not os.path.exists(output_dir):\n",
    "    os.makedirs(output_dir)\n",
    "\n",
    "for category in os.listdir(input_dir):\n",
    "    category_path = os.path.join(input_dir, category)\n",
    "    if os.path.isdir(category_path):\n",
    "        output_category_path = os.path.join(output_dir, category)\n",
    "        if not os.path.exists(output_category_path):\n",
    "            os.makedirs(output_category_path)\n",
    "        for image_name in os.listdir(category_path):\n",
    "            image_path = os.path.join(category_path, image_name)\n",
    "            preprocessed_img = preprocess_image(image_path)\n",
    "            preprocessed_img.save(os.path.join(output_category_path, image_name))"
   ]
  },
  {
   "cell_type": "markdown",
   "metadata": {},
   "source": [
    "Train/Test Split"
   ]
  },
  {
   "cell_type": "code",
   "execution_count": 11,
   "metadata": {},
   "outputs": [
    {
     "name": "stdout",
     "output_type": "stream",
     "text": [
      "Found 10500 images belonging to 21 classes.\n",
      "Found 1050 images belonging to 21 classes.\n"
     ]
    }
   ],
   "source": [
    "train_dir = 'processed_images'\n",
    "test_dir = 'images_train_test_val/test'\n",
    "\n",
    "datagen = ImageDataGenerator(\n",
    "    rescale=1./255,\n",
    "    shear_range=0.2,\n",
    "    zoom_range=0.2,\n",
    "    horizontal_flip=True\n",
    ")\n",
    "\n",
    "train_generator = datagen.flow_from_directory(\n",
    "    train_dir,\n",
    "    target_size=(224, 224),\n",
    "    batch_size=32,\n",
    "    class_mode='categorical'\n",
    ")\n",
    "\n",
    "test_generator = datagen.flow_from_directory(\n",
    "    test_dir,\n",
    "    target_size=(224, 224),\n",
    "    batch_size=32,\n",
    "    class_mode='categorical'\n",
    ")"
   ]
  },
  {
   "cell_type": "markdown",
   "metadata": {},
   "source": [
    "Base Model Creation"
   ]
  },
  {
   "cell_type": "code",
   "execution_count": 12,
   "metadata": {},
   "outputs": [],
   "source": [
    "def create_model(optimizer='adam', init_mode='uniform', dropout_rate=0.5, filters1=32, filters2=64, dense_units=128):\n",
    "    model = Sequential()\n",
    "    model.add(Input(shape=(224, 224, 3)))\n",
    "    model.add(Conv2D(filters=int(filters1), kernel_size=(3, 3), activation='relu', kernel_initializer=init_mode))\n",
    "    model.add(MaxPooling2D(pool_size=(2, 2)))\n",
    "    model.add(Conv2D(filters=int(filters2), kernel_size=(3, 3), activation='relu', kernel_initializer=init_mode))\n",
    "    model.add(MaxPooling2D(pool_size=(2, 2)))\n",
    "    model.add(Flatten())\n",
    "    model.add(Dense(units=int(dense_units), activation='relu', kernel_initializer=init_mode))\n",
    "    model.add(Dropout(rate=dropout_rate))\n",
    "    model.add(Dense(21, activation='softmax'))\n",
    "    \n",
    "    model.compile(loss='categorical_crossentropy', optimizer=optimizer, metrics=['accuracy'])\n",
    "    return model"
   ]
  },
  {
   "cell_type": "markdown",
   "metadata": {},
   "source": [
    "Model Creation"
   ]
  },
  {
   "cell_type": "code",
   "execution_count": 13,
   "metadata": {},
   "outputs": [],
   "source": [
    "def model_train_evaluate(optimizer, init_mode, dropout_rate, filters1, filters2, dense_units):\n",
    "    model = create_model(optimizer=optimizer, init_mode=init_mode, dropout_rate=dropout_rate, filters1=filters1, filters2=filters2, dense_units=dense_units)\n",
    "    history = model.fit(\n",
    "        train_generator,\n",
    "        epochs=10,\n",
    "        validation_data=test_generator,\n",
    "        verbose=0\n",
    "    )\n",
    "    \n",
    "    val_loss, val_acc = model.evaluate(test_generator, verbose=0)\n",
    "    return val_acc\n",
    "\n",
    "def optimize_model():\n",
    "    optimizer_dict = {\n",
    "        'SGD': SGD,\n",
    "        'Adam': Adam\n",
    "    }\n",
    "    \n",
    "    def model_wrapper(optimizer, init_mode, dropout_rate, filters1, filters2, dense_units):\n",
    "        optimizer_str = 'SGD' if optimizer < 0.5 else 'Adam'\n",
    "        return model_train_evaluate(\n",
    "            optimizer=optimizer_dict[optimizer_str](),\n",
    "            init_mode='uniform' if init_mode < 0.5 else 'he_normal',\n",
    "            dropout_rate=dropout_rate,\n",
    "            filters1=filters1,\n",
    "            filters2=filters2,\n",
    "            dense_units=dense_units\n",
    "        )\n",
    "    \n",
    "    pbounds = {\n",
    "        'optimizer': (0, 1),\n",
    "        'init_mode': (0, 1),\n",
    "        'dropout_rate': (0.3, 0.7),\n",
    "        'filters1': (16, 64),\n",
    "        'filters2': (32, 128),\n",
    "        'dense_units': (64, 256)\n",
    "    }\n",
    "    \n",
    "    optimizer = BayesianOptimization(\n",
    "        f=model_wrapper,\n",
    "        pbounds=pbounds,\n",
    "        random_state=1\n",
    "    )\n",
    "    \n",
    "    optimizer.maximize(init_points=2, n_iter=3)\n",
    "    \n",
    "    print(\"Best hyperparameters found: \", optimizer.max)\n",
    "    return optimizer.max"
   ]
  },
  {
   "cell_type": "code",
   "execution_count": 14,
   "metadata": {},
   "outputs": [
    {
     "name": "stdout",
     "output_type": "stream",
     "text": [
      "|   iter    |  target   | dense_... | dropou... | filters1  | filters2  | init_mode | optimizer |\n",
      "-------------------------------------------------------------------------------------------------\n"
     ]
    },
    {
     "name": "stderr",
     "output_type": "stream",
     "text": [
      "/Users/jay/anaconda3/envs/tf_m1_env/lib/python3.10/site-packages/keras/src/trainers/data_adapters/py_dataset_adapter.py:121: UserWarning: Your `PyDataset` class should call `super().__init__(**kwargs)` in its constructor. `**kwargs` can include `workers`, `use_multiprocessing`, `max_queue_size`. Do not pass these arguments to `fit()`, as they will be ignored.\n",
      "  self._warn_if_super_not_called()\n"
     ]
    },
    {
     "name": "stdout",
     "output_type": "stream",
     "text": [
      "| \u001b[39m1        \u001b[39m | \u001b[39m0.301    \u001b[39m | \u001b[39m144.1    \u001b[39m | \u001b[39m0.5881   \u001b[39m | \u001b[39m16.01    \u001b[39m | \u001b[39m61.02    \u001b[39m | \u001b[39m0.1468   \u001b[39m | \u001b[39m0.09234  \u001b[39m |\n",
      "| \u001b[35m2        \u001b[39m | \u001b[35m0.5295   \u001b[39m | \u001b[35m99.76    \u001b[39m | \u001b[35m0.4382   \u001b[39m | \u001b[35m35.04    \u001b[39m | \u001b[35m83.73    \u001b[39m | \u001b[35m0.4192   \u001b[39m | \u001b[35m0.6852   \u001b[39m |\n",
      "| \u001b[39m3        \u001b[39m | \u001b[39m0.5057   \u001b[39m | \u001b[39m98.46    \u001b[39m | \u001b[39m0.4588   \u001b[39m | \u001b[39m34.97    \u001b[39m | \u001b[39m83.79    \u001b[39m | \u001b[39m0.3333   \u001b[39m | \u001b[39m0.6186   \u001b[39m |\n",
      "| \u001b[39m4        \u001b[39m | \u001b[39m0.5248   \u001b[39m | \u001b[39m109.7    \u001b[39m | \u001b[39m0.3165   \u001b[39m | \u001b[39m35.63    \u001b[39m | \u001b[39m83.26    \u001b[39m | \u001b[39m0.9298   \u001b[39m | \u001b[39m0.9843   \u001b[39m |\n",
      "| \u001b[35m5        \u001b[39m | \u001b[35m0.6067   \u001b[39m | \u001b[35m105.5    \u001b[39m | \u001b[35m0.3      \u001b[39m | \u001b[35m30.58    \u001b[39m | \u001b[35m93.0     \u001b[39m | \u001b[35m1.0      \u001b[39m | \u001b[35m1.0      \u001b[39m |\n",
      "=================================================================================================\n",
      "Best hyperparameters found:  {'target': 0.6066666841506958, 'params': {'dense_units': 105.49196362040566, 'dropout_rate': 0.3, 'filters1': 30.583139782511623, 'filters2': 93.00304462537339, 'init_mode': 1.0, 'optimizer': 1.0}}\n",
      "Epoch 1/10\n",
      "\u001b[1m329/329\u001b[0m \u001b[32m━━━━━━━━━━━━━━━━━━━━\u001b[0m\u001b[37m\u001b[0m \u001b[1m150s\u001b[0m 448ms/step - accuracy: 0.0441 - loss: 9.9369 - val_accuracy: 0.0476 - val_loss: 3.0445\n",
      "Epoch 2/10\n",
      "\u001b[1m329/329\u001b[0m \u001b[32m━━━━━━━━━━━━━━━━━━━━\u001b[0m\u001b[37m\u001b[0m \u001b[1m149s\u001b[0m 450ms/step - accuracy: 0.0443 - loss: 3.0447 - val_accuracy: 0.0476 - val_loss: 3.0445\n",
      "Epoch 3/10\n",
      "\u001b[1m329/329\u001b[0m \u001b[32m━━━━━━━━━━━━━━━━━━━━\u001b[0m\u001b[37m\u001b[0m \u001b[1m148s\u001b[0m 446ms/step - accuracy: 0.0424 - loss: 3.0447 - val_accuracy: 0.0476 - val_loss: 3.0445\n",
      "Epoch 4/10\n",
      "\u001b[1m329/329\u001b[0m \u001b[32m━━━━━━━━━━━━━━━━━━━━\u001b[0m\u001b[37m\u001b[0m \u001b[1m145s\u001b[0m 437ms/step - accuracy: 0.0392 - loss: 3.0447 - val_accuracy: 0.0476 - val_loss: 3.0445\n",
      "Epoch 5/10\n",
      "\u001b[1m329/329\u001b[0m \u001b[32m━━━━━━━━━━━━━━━━━━━━\u001b[0m\u001b[37m\u001b[0m \u001b[1m144s\u001b[0m 432ms/step - accuracy: 0.0483 - loss: 3.0447 - val_accuracy: 0.0476 - val_loss: 3.0445\n",
      "Epoch 6/10\n",
      "\u001b[1m329/329\u001b[0m \u001b[32m━━━━━━━━━━━━━━━━━━━━\u001b[0m\u001b[37m\u001b[0m \u001b[1m145s\u001b[0m 435ms/step - accuracy: 0.0456 - loss: 3.0447 - val_accuracy: 0.0476 - val_loss: 3.0445\n",
      "Epoch 7/10\n",
      "\u001b[1m329/329\u001b[0m \u001b[32m━━━━━━━━━━━━━━━━━━━━\u001b[0m\u001b[37m\u001b[0m \u001b[1m146s\u001b[0m 439ms/step - accuracy: 0.0501 - loss: 3.0447 - val_accuracy: 0.0476 - val_loss: 3.0445\n",
      "Epoch 8/10\n",
      "\u001b[1m329/329\u001b[0m \u001b[32m━━━━━━━━━━━━━━━━━━━━\u001b[0m\u001b[37m\u001b[0m \u001b[1m146s\u001b[0m 438ms/step - accuracy: 0.0440 - loss: 3.0447 - val_accuracy: 0.0476 - val_loss: 3.0445\n",
      "Epoch 9/10\n",
      "\u001b[1m329/329\u001b[0m \u001b[32m━━━━━━━━━━━━━━━━━━━━\u001b[0m\u001b[37m\u001b[0m \u001b[1m147s\u001b[0m 442ms/step - accuracy: 0.0485 - loss: 3.0447 - val_accuracy: 0.0476 - val_loss: 3.0445\n",
      "Epoch 10/10\n",
      "\u001b[1m329/329\u001b[0m \u001b[32m━━━━━━━━━━━━━━━━━━━━\u001b[0m\u001b[37m\u001b[0m \u001b[1m149s\u001b[0m 449ms/step - accuracy: 0.0421 - loss: 3.0447 - val_accuracy: 0.0476 - val_loss: 3.0445\n"
     ]
    }
   ],
   "source": [
    "best_params = optimize_model()\n",
    "\n",
    "# Create and evaluate the best model\n",
    "best_model = create_model(\n",
    "    optimizer=SGD() if best_params['params']['optimizer'] < 0.5 else Adam(),\n",
    "    init_mode='uniform' if best_params['params']['init_mode'] < 0.5 else 'he_normal',\n",
    "    dropout_rate=best_params['params']['dropout_rate'],\n",
    "    filters1=int(best_params['params']['filters1']),\n",
    "    filters2=int(best_params['params']['filters2']),\n",
    "    dense_units=int(best_params['params']['dense_units'])\n",
    ")\n",
    "\n",
    "history = best_model.fit(\n",
    "    train_generator,\n",
    "    epochs=10,\n",
    "    validation_data=test_generator\n",
    ")"
   ]
  },
  {
   "cell_type": "markdown",
   "metadata": {},
   "source": [
    "Evaluate Model"
   ]
  },
  {
   "cell_type": "code",
   "execution_count": 15,
   "metadata": {},
   "outputs": [
    {
     "name": "stdout",
     "output_type": "stream",
     "text": [
      "\u001b[1m329/329\u001b[0m \u001b[32m━━━━━━━━━━━━━━━━━━━━\u001b[0m\u001b[37m\u001b[0m \u001b[1m70s\u001b[0m 210ms/step - accuracy: 0.0457 - loss: 3.0446\n",
      "\u001b[1m33/33\u001b[0m \u001b[32m━━━━━━━━━━━━━━━━━━━━\u001b[0m\u001b[37m\u001b[0m \u001b[1m8s\u001b[0m 248ms/step - accuracy: 0.0570 - loss: 3.0444\n",
      "Train accuracy: 0.0476, Test accuracy: 0.0476\n"
     ]
    }
   ],
   "source": [
    "# Evaluate the model\n",
    "train_loss, train_acc = best_model.evaluate(train_generator)\n",
    "val_loss, val_acc = best_model.evaluate(test_generator)\n",
    "\n",
    "print(f'Train accuracy: {train_acc:.4f}, Test accuracy: {val_acc:.4f}')"
   ]
  },
  {
   "cell_type": "code",
   "execution_count": 16,
   "metadata": {},
   "outputs": [
    {
     "data": {
      "image/png": "[encoded data removed]",
      "text/plain": [
       "<Figure size 1200x600 with 2 Axes>"
      ]
     },
     "metadata": {},
     "output_type": "display_data"
    }
   ],
   "source": [
    "# Plot training & validation accuracy values\n",
    "plt.figure(figsize=(12, 6))\n",
    "\n",
    "plt.subplot(1, 2, 1)\n",
    "plt.plot(history.history['accuracy'])\n",
    "plt.plot(history.history['val_accuracy'])\n",
    "plt.title('Model accuracy')\n",
    "plt.ylabel('Accuracy')\n",
    "plt.xlabel('Epoch')\n",
    "plt.legend(['Train', 'Test'], loc='upper left')\n",
    "\n",
    "# Plot training & Test loss values\n",
    "plt.subplot(1, 2, 2)\n",
    "plt.plot(history.history['loss'])\n",
    "plt.plot(history.history['val_loss'])\n",
    "plt.title('Model loss')\n",
    "plt.ylabel('Loss')\n",
    "plt.xlabel('Epoch')\n",
    "plt.legend(['Train', 'Test'], loc='upper left')\n",
    "\n",
    "plt.show()\n"
   ]
  }
 ],
 "metadata": {
  "kernelspec": {
   "display_name": "base",
   "language": "python",
   "name": "python3"
  },
  "language_info": {
   "codemirror_mode": {
    "name": "ipython",
    "version": 3
   },
   "file_extension": ".py",
   "mimetype": "text/x-python",
   "name": "python",
   "nbconvert_exporter": "python",
   "pygments_lexer": "ipython3",
   "version": "3.10.14"
  }
 },
 "nbformat": 4,
 "nbformat_minor": 2
}
